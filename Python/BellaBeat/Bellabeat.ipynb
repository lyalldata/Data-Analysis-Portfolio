{
 "cells": [
  {
   "cell_type": "markdown",
   "metadata": {},
   "source": [
    "# Process\n",
    " \n",
    " ### Data Cleaning\n",
    " In this phase the data will be uploaded, origanized, cleaned and ready for analysis. "
   ]
  },
  {
   "cell_type": "code",
   "execution_count": 65,
   "metadata": {},
   "outputs": [],
   "source": [
    "import pandas as pd\n",
    "import matplotlib.pyplot as plt\n",
    "import datetime as dt\n",
    "import seaborn as sns\n",
    "\n",
    "pd.options.display.max_columns = None"
   ]
  },
  {
   "cell_type": "code",
   "execution_count": 66,
   "metadata": {},
   "outputs": [
    {
     "name": "stdout",
     "output_type": "stream",
     "text": [
      "successful\n"
     ]
    }
   ],
   "source": [
    "# Reading files \n",
    "\n",
    "# Daily Datasets\n",
    "daily_activity  = pd.read_csv(\"/Users/gurilyall/Downloads/Analysis Projects/4. bellabeat_raw_data/csv_files/dailyActivity_merged.csv\")\n",
    "daily_calories   = pd.read_csv(\"/Users/gurilyall/Downloads/Analysis Projects/4. bellabeat_raw_data/csv_files/dailyCalories_merged.csv\")\n",
    "daily_intensities  = pd.read_csv(\"/Users/gurilyall/Downloads/Analysis Projects/4. bellabeat_raw_data/csv_files/dailyIntensities_merged.csv\")\n",
    "daily_steps  = pd.read_csv(\"/Users/gurilyall/Downloads/Analysis Projects/4. bellabeat_raw_data/csv_files/dailySteps_merged.csv\")\n",
    "\n",
    "# Other datasets\n",
    "heartrate_seconds  = pd.read_csv(\"/Users/gurilyall/Downloads/Analysis Projects/4. bellabeat_raw_data/csv_files/heartrate_seconds_merged.csv\")\n",
    "sleep_log  = pd.read_csv(\"/Users/gurilyall/Downloads/Analysis Projects/4. bellabeat_raw_data/csv_files/sleepDay_merged.csv\")\n",
    "weight_log  = pd.read_csv(\"/Users/gurilyall/Downloads/Analysis Projects/4. bellabeat_raw_data/csv_files/weightLogInfo_merged.csv\")\n",
    "print(\"successful\")"
   ]
  },
  {
   "cell_type": "code",
   "execution_count": 67,
   "metadata": {},
   "outputs": [
    {
     "name": "stdout",
     "output_type": "stream",
     "text": [
      "Daily Activity\n",
      " Index(['Id', 'ActivityDate', 'TotalSteps', 'TotalDistance', 'TrackerDistance', 'LoggedActivitiesDistance', 'VeryActiveDistance', 'ModeratelyActiveDistance', 'LightActiveDistance', 'SedentaryActiveDistance', 'VeryActiveMinutes', 'FairlyActiveMinutes', 'LightlyActiveMinutes', 'SedentaryMinutes', 'Calories'], dtype='object') \n",
      "\n",
      "Daily Calories\n",
      " Index(['Id', 'ActivityDay', 'Calories'], dtype='object') \n",
      "\n",
      "Daily Intensities\n",
      " Index(['Id', 'ActivityDay', 'SedentaryMinutes', 'LightlyActiveMinutes', 'FairlyActiveMinutes', 'VeryActiveMinutes', 'SedentaryActiveDistance', 'LightActiveDistance', 'ModeratelyActiveDistance', 'VeryActiveDistance'], dtype='object') \n",
      "\n",
      "Daily Steps\n",
      " Index(['Id', 'ActivityDay', 'StepTotal'], dtype='object') \n",
      "\n",
      "Heart Rate\n",
      " Index(['Id', 'Time', 'Value'], dtype='object') \n",
      "\n",
      "Sleep Log\n",
      " Index(['Id', 'SleepDay', 'TotalSleepRecords', 'TotalMinutesAsleep', 'TotalTimeInBed'], dtype='object')\n"
     ]
    }
   ],
   "source": [
    "# Checking column names of all the dataframes\n",
    "\n",
    "print(\"Daily Activity\\n\",daily_activity.columns,\n",
    "      \"\\n\\nDaily Calories\\n\",daily_calories.columns,\n",
    "      \"\\n\\nDaily Intensities\\n\",daily_intensities.columns,\n",
    "      \"\\n\\nDaily Steps\\n\",daily_steps.columns,\n",
    "      \"\\n\\nHeart Rate\\n\",heartrate_seconds.columns,\n",
    "      \"\\n\\nSleep Log\\n\",sleep_log.columns)"
   ]
  },
  {
   "cell_type": "markdown",
   "metadata": {},
   "source": [
    "lets check the size, shape & datatypes of all the datasets."
   ]
  },
  {
   "cell_type": "code",
   "execution_count": 68,
   "metadata": {},
   "outputs": [
    {
     "name": "stdout",
     "output_type": "stream",
     "text": [
      "Activity Size: 14100 \n",
      "activity Shape: (940, 15) \n",
      "Data types:\n",
      " Id                            int64\n",
      "ActivityDate                 object\n",
      "TotalSteps                    int64\n",
      "TotalDistance               float64\n",
      "TrackerDistance             float64\n",
      "LoggedActivitiesDistance    float64\n",
      "VeryActiveDistance          float64\n",
      "ModeratelyActiveDistance    float64\n",
      "LightActiveDistance         float64\n",
      "SedentaryActiveDistance     float64\n",
      "VeryActiveMinutes             int64\n",
      "FairlyActiveMinutes           int64\n",
      "LightlyActiveMinutes          int64\n",
      "SedentaryMinutes              int64\n",
      "Calories                      int64\n",
      "dtype: object\n",
      "--------------------------------------------------\n",
      "Calories Size: 2820 \n",
      "calories Shape: (940, 3) \n",
      "Data types:\n",
      " Id              int64\n",
      "ActivityDay    object\n",
      "Calories        int64\n",
      "dtype: object\n",
      "--------------------------------------------------\n",
      "Data Intensities Size: 9400 \n",
      "data Shape: (940, 10) \n",
      "Data types:\n",
      " Id                            int64\n",
      "ActivityDay                  object\n",
      "SedentaryMinutes              int64\n",
      "LightlyActiveMinutes          int64\n",
      "FairlyActiveMinutes           int64\n",
      "VeryActiveMinutes             int64\n",
      "SedentaryActiveDistance     float64\n",
      "LightActiveDistance         float64\n",
      "ModeratelyActiveDistance    float64\n",
      "VeryActiveDistance          float64\n",
      "dtype: object\n",
      "--------------------------------------------------\n",
      "Steps Size: 2820 \n",
      "steps Shape: (940, 3) \n",
      "Data types:\n",
      " Id              int64\n",
      "ActivityDay    object\n",
      "StepTotal       int64\n",
      "dtype: object\n",
      "--------------------------------------------------\n",
      "Heart Rate Size: 7450974 \n",
      "Heart Rate Shape: (2483658, 3) \n",
      "Data types:\n",
      " Id        int64\n",
      "Time     object\n",
      "Value     int64\n",
      "dtype: object\n",
      "--------------------------------------------------\n",
      "Sleep Log Size: 2065 \n",
      "Sleep Log Shape: (413, 5) \n",
      "Data types:\n",
      " Id                     int64\n",
      "SleepDay              object\n",
      "TotalSleepRecords      int64\n",
      "TotalMinutesAsleep     int64\n",
      "TotalTimeInBed         int64\n",
      "dtype: object\n",
      "--------------------------------------------------\n",
      "Weight Log Size: 536 \n",
      "Weight Log Shape: (67, 8) \n",
      "Data types:\n",
      " Id                  int64\n",
      "Date               object\n",
      "WeightKg          float64\n",
      "WeightPounds      float64\n",
      "Fat               float64\n",
      "BMI               float64\n",
      "IsManualReport       bool\n",
      "LogId               int64\n",
      "dtype: object\n"
     ]
    }
   ],
   "source": [
    "# checking data shape, size and data types\n",
    "print('Activity Size:', daily_activity.size, \n",
    "      \"\\nactivity Shape:\" , daily_activity.shape, \n",
    "      '\\nData types:\\n',daily_activity.dtypes )\n",
    "\n",
    "print(f'{\"-\"*50}\\nCalories Size:', daily_calories.size, \n",
    "      \"\\ncalories Shape:\" , daily_calories.shape, \n",
    "      '\\nData types:\\n',daily_calories.dtypes )\n",
    "\n",
    "print(f'{\"-\"*50}\\nData Intensities Size:', daily_intensities.size, \n",
    "      \"\\ndata Shape:\" , daily_intensities.shape, \n",
    "      '\\nData types:\\n',daily_intensities.dtypes )\n",
    "\n",
    "print(f'{\"-\"*50}\\nSteps Size:', daily_steps.size, \n",
    "      \"\\nsteps Shape:\" , daily_steps.shape, \n",
    "      '\\nData types:\\n',daily_steps.dtypes )\n",
    "\n",
    "print(f'{\"-\"*50}\\nHeart Rate Size:', heartrate_seconds.size,\n",
    "      \"\\nHeart Rate Shape:\", heartrate_seconds.shape,\n",
    "      '\\nData types:\\n',heartrate_seconds.dtypes )\n",
    "\n",
    "print(f'{\"-\"*50}\\nSleep Log Size:', sleep_log.size,\n",
    "      \"\\nSleep Log Shape:\", sleep_log.shape,\n",
    "      '\\nData types:\\n',sleep_log.dtypes )\n",
    "\n",
    "print(f'{\"-\"*50}\\nWeight Log Size:', weight_log.size,\n",
    "      \"\\nWeight Log Shape:\", weight_log.shape,\n",
    "      '\\nData types:\\n',weight_log.dtypes )"
   ]
  },
  {
   "cell_type": "markdown",
   "metadata": {},
   "source": [
    "We will count the total number of participants by their unique IDs and analyze the frequency of their participation. By checking the value counts, we can assess the level of engagement and determine whether participants were actively involved in the dataset."
   ]
  },
  {
   "cell_type": "code",
   "execution_count": 69,
   "metadata": {},
   "outputs": [
    {
     "name": "stdout",
     "output_type": "stream",
     "text": [
      "daily_activity Participants: 33 \n",
      "daily_calories Participants: 33 \n",
      "daily_intensities Participants: 33 \n",
      "daily_steps Participants: 33 \n",
      "Heart Rate Participants: 14 \n",
      "Sleep Log Participants: 24 \n",
      "Weight Log Participants: 8\n"
     ]
    }
   ],
   "source": [
    "# checking the number of participants in each dataset\n",
    "print(\"daily_activity Participants:\", daily_activity.Id.nunique(),\n",
    "      \"\\ndaily_calories Participants:\", daily_calories.Id.nunique(),\n",
    "      \"\\ndaily_intensities Participants:\", daily_intensities.Id.nunique(),\n",
    "      \"\\ndaily_steps Participants:\", daily_steps.Id.nunique(),\n",
    "      \"\\nHeart Rate Participants:\", heartrate_seconds.Id.nunique(),\n",
    "      \"\\nSleep Log Participants:\", sleep_log.Id.nunique(),\n",
    "      \"\\nWeight Log Participants:\", weight_log.Id.nunique())"
   ]
  },
  {
   "cell_type": "markdown",
   "metadata": {},
   "source": [
    "The output shows, `Sleep Log`,`Heart Rate` and `weight_log` have `24`,`14`,`8`  different participants log-ins . All the other datasets have `33`  log-ins from 33 participants.\n",
    "\n",
    "In the next step we will check the amounts of logins per dataset to check the participation of each person."
   ]
  },
  {
   "cell_type": "code",
   "execution_count": 70,
   "metadata": {},
   "outputs": [
    {
     "name": "stdout",
     "output_type": "stream",
     "text": [
      "                    Login(s) for each participant by ID\n",
      "\n",
      "             Activity  Calories  Intensities  Steps  Heartrate  SleepLog  WeightLog\n",
      "Id                                                                                \n",
      "1503960366        31        31           31     31        NaN      25.0        2.0\n",
      "4319703577        31        31           31     31        NaN      26.0        2.0\n",
      "8583815059        31        31           31     31        NaN       NaN        NaN\n",
      "8378563200        31        31           31     31        NaN      32.0        NaN\n",
      "8053475328        31        31           31     31        NaN       3.0        NaN\n",
      "7086361926        31        31           31     31        NaN      24.0        NaN\n",
      "6962181067        31        31           31     31   266326.0      31.0       30.0\n",
      "5553957443        31        31           31     31   255174.0      31.0        NaN\n",
      "4702921684        31        31           31     31        NaN      28.0        NaN\n",
      "4558609924        31        31           31     31   192168.0       5.0        5.0\n",
      "1624580081        31        31           31     31        NaN       NaN        NaN\n",
      "4388161847        31        31           31     31   249748.0      24.0        NaN\n",
      "4445114986        31        31           31     31        NaN      28.0        NaN\n",
      "8877689391        31        31           31     31   228841.0       NaN       24.0\n",
      "1927972279        31        31           31     31        NaN       5.0        1.0\n",
      "2873212765        31        31           31     31        NaN       NaN        2.0\n",
      "2320127002        31        31           31     31        NaN       1.0        NaN\n",
      "4020332650        31        31           31     31   285461.0       8.0        NaN\n",
      "2026352035        31        31           31     31     2490.0      28.0        NaN\n",
      "1844505072        31        31           31     31        NaN       3.0        NaN\n",
      "2022484408        31        31           31     31   154104.0       NaN        NaN\n",
      "3977333714        30        30           30     30        NaN      28.0        NaN\n",
      "1644430081        30        30           30     30        NaN       4.0        NaN\n",
      "5577150313        30        30           30     30   248560.0      26.0        1.0\n",
      "8792009665        29        29           29     29   122841.0      15.0        NaN\n",
      "6290855005        29        29           29     29        NaN       NaN        NaN\n",
      "6117666160        28        28           28     28   158899.0      18.0        NaN\n",
      "6775888955        26        26           26     26    32771.0       3.0        NaN\n",
      "7007744171        26        26           26     26   133592.0       2.0        NaN\n",
      "3372868164        20        20           20     20        NaN       NaN        NaN\n",
      "8253242879        19        19           19     19        NaN       NaN        NaN\n",
      "2347167796        18        18           18     18   152683.0      15.0        NaN\n",
      "4057192912         4         4            4      4        NaN       NaN        NaN\n"
     ]
    }
   ],
   "source": [
    "pd.set_option('display.width', 1000)  \n",
    "pd.set_option('display.max_columns', None)  \n",
    "# checking login(s) for each participant by ID\n",
    "\n",
    "comparison = pd.concat([\n",
    "    daily_activity['Id'].value_counts().rename('Activity'),\n",
    "    daily_calories['Id'].value_counts().rename('Calories'),\n",
    "    daily_intensities['Id'].value_counts().rename('Intensities'),\n",
    "    daily_steps['Id'].value_counts().rename('Steps'),\n",
    "    heartrate_seconds['Id'].value_counts().rename('Heartrate'),\n",
    "    sleep_log['Id'].value_counts().rename('SleepLog'),\n",
    "    weight_log['Id'].value_counts().rename('WeightLog')\n",
    "], axis=1)\n",
    "\n",
    "print(f\"{\" \"*20}Login(s) for each participant by ID\\n\\n\",comparison)"
   ]
  },
  {
   "cell_type": "markdown",
   "metadata": {},
   "source": [
    "For the daily datasets the particpation is good  except 1 women with `4` entries. Fewer number of women participated in heartrate_seconds, Sleep_log, weight_log according to that there are alot of `Nan`s in these 3 datasets"
   ]
  },
  {
   "cell_type": "markdown",
   "metadata": {},
   "source": [
    "In this step, we are examining all the datasets to identify any missing data. This helps us understand the completeness of the datasets and determine how to handle any gaps or inconsistencies in the data moving forward."
   ]
  },
  {
   "cell_type": "code",
   "execution_count": 71,
   "metadata": {},
   "outputs": [
    {
     "name": "stdout",
     "output_type": "stream",
     "text": [
      "daily_activity Missing Values: 0 \n",
      "daily_calories Missing Values: 0 \n",
      "daily_intensities Missing Values: 0 \n",
      "daily_steps Missing Values: 0 \n",
      "Heart Rate Missing Values: 0 \n",
      "Sleep Log Missing Values: 0 \n",
      "Weight Log Missing Values: 65\n"
     ]
    }
   ],
   "source": [
    "# Checking for missing values in each dataset\n",
    "print(\"daily_activity Missing Values:\", daily_activity.isnull().sum().sum(),  \n",
    "      \"\\ndaily_calories Missing Values:\", daily_calories.isnull().sum().sum(),  \n",
    "      \"\\ndaily_intensities Missing Values:\", daily_intensities.isnull().sum().sum(),  \n",
    "      \"\\ndaily_steps Missing Values:\", daily_steps.isnull().sum().sum(),  \n",
    "      \"\\nHeart Rate Missing Values:\", heartrate_seconds.isnull().sum().sum(),  \n",
    "      \"\\nSleep Log Missing Values:\", sleep_log.isnull().sum().sum(),\n",
    "      \"\\nWeight Log Missing Values:\", weight_log.isnull().sum().sum())  "
   ]
  },
  {
   "cell_type": "code",
   "execution_count": 72,
   "metadata": {},
   "outputs": [
    {
     "data": {
      "text/plain": [
       "Id                 0\n",
       "Date               0\n",
       "WeightKg           0\n",
       "WeightPounds       0\n",
       "Fat               65\n",
       "BMI                0\n",
       "IsManualReport     0\n",
       "LogId              0\n",
       "dtype: int64"
      ]
     },
     "execution_count": 72,
     "metadata": {},
     "output_type": "execute_result"
    }
   ],
   "source": [
    "weight_log.isnull().sum()"
   ]
  },
  {
   "cell_type": "markdown",
   "metadata": {},
   "source": [
    "The weight_log dataset contains `67` rows of data, with `65` of them having null values in the `Fat` column. This indicates that most of the data is missing, limiting the insights that can be drawn from the Fat column. Meanwhile, this issue has been forwarded to the Marketing Analysis Team and Bellabeat’s IT Team for further investigation. We will not drop the data and will continue with the analysis."
   ]
  },
  {
   "cell_type": "markdown",
   "metadata": {},
   "source": [
    "Checking for Duplicated entries in the datasets."
   ]
  },
  {
   "cell_type": "code",
   "execution_count": 73,
   "metadata": {},
   "outputs": [
    {
     "name": "stdout",
     "output_type": "stream",
     "text": [
      "daily_activity Duplicates: 0 \n",
      "daily_calories Duplicates: 0 \n",
      "daily_intensities Duplicates: 0 \n",
      "daily_steps Duplicates: 0 \n",
      "Heart Rate Duplicates: 0 \n",
      "Sleep Log Duplicates: 3 \n",
      "Weight Log Duplicates: 0\n"
     ]
    }
   ],
   "source": [
    "# checking for duplicates\n",
    "print(\"daily_activity Duplicates:\", daily_activity.duplicated().sum(),  \n",
    "      \"\\ndaily_calories Duplicates:\", daily_calories.duplicated().sum(),  \n",
    "      \"\\ndaily_intensities Duplicates:\", daily_intensities.duplicated().sum(),  \n",
    "      \"\\ndaily_steps Duplicates:\", daily_steps.duplicated().sum(),  \n",
    "      \"\\nHeart Rate Duplicates:\", heartrate_seconds.duplicated().sum(),  \n",
    "      \"\\nSleep Log Duplicates:\", sleep_log.duplicated().sum(),\n",
    "      \"\\nWeight Log Duplicates:\", weight_log.duplicated().sum())  "
   ]
  },
  {
   "cell_type": "markdown",
   "metadata": {},
   "source": [
    "As per the output there are `3` duplicated entries in the sleep log dataset. In the next step, dropping the duplicated values. "
   ]
  },
  {
   "cell_type": "code",
   "execution_count": 74,
   "metadata": {},
   "outputs": [
    {
     "name": "stdout",
     "output_type": "stream",
     "text": [
      "Sleep Log Duplicates: 0\n"
     ]
    }
   ],
   "source": [
    "# dropping duplicated and null data entries\n",
    "sleep_log.drop_duplicates(inplace=True)\n",
    "print(\"Sleep Log Duplicates:\", sleep_log.duplicated().sum())  \n"
   ]
  },
  {
   "cell_type": "markdown",
   "metadata": {},
   "source": [
    "# Analyze\n",
    "\n",
    "### Data Transformation\n",
    "In this Phase, we will transform the data using various methods, such as changing data types, renaming columns, merging datasets, and creating new columns or aliases. These changes will be made in a way that preserves the original data, allowing it to be accessed or reviewed if needed."
   ]
  },
  {
   "cell_type": "code",
   "execution_count": 75,
   "metadata": {},
   "outputs": [],
   "source": [
    "# renaming the columns\n",
    "daily_activity = daily_activity.rename(columns = {'ActivityDate':'ActivityDay'})\n"
   ]
  },
  {
   "cell_type": "code",
   "execution_count": 76,
   "metadata": {},
   "outputs": [
    {
     "name": "stdout",
     "output_type": "stream",
     "text": [
      "Missing Data:  0 \n",
      "Dataset Shape:  (940, 25) \n",
      "Dataset Size:  23500\n"
     ]
    }
   ],
   "source": [
    "# mering all the daily datasets into one\n",
    "df1 = pd.merge(pd.merge(pd.merge(daily_activity, daily_calories, on=['Id', 'ActivityDay'], how='outer'), daily_intensities, on=['Id', 'ActivityDay'], how='outer'), daily_steps, on=['Id', 'ActivityDay'], how='outer')\n",
    "\n",
    "print(\"Missing Data: \",df1.isnull().sum().sum(),\n",
    "      \"\\nDataset Shape: \", df1.shape,\n",
    "      \"\\nDataset Size: \", df1.size)"
   ]
  },
  {
   "cell_type": "markdown",
   "metadata": {},
   "source": [
    "The dataset shape indicates `940` rows and `25` columns, which aligns with the combined total from the initial four datasets"
   ]
  },
  {
   "cell_type": "markdown",
   "metadata": {},
   "source": [
    "Changing the format of the of all the date for all the datasets"
   ]
  },
  {
   "cell_type": "code",
   "execution_count": 77,
   "metadata": {},
   "outputs": [
    {
     "name": "stdout",
     "output_type": "stream",
     "text": [
      "Daily Dataset datetime64[ns] \n",
      "Heart Rate Dataset datetime64[ns] \n",
      "Weight Log Dataset datetime64[ns] \n",
      "Sleep Log Dataset datetime64[ns]\n"
     ]
    }
   ],
   "source": [
    "# Daily dataset date formatting\n",
    "df1['ActivityDay'] = pd.to_datetime(df1['ActivityDay'], format=\"%m/%d/%Y\")\n",
    "\n",
    "# Heart rate dataset date and time formatting\n",
    "heart = heartrate_seconds.copy()\n",
    "heart['Date'] = pd.to_datetime(heart['Time'], format=\"%m/%d/%Y %I:%M:%S %p\")\n",
    "\n",
    "# Weight log dataset date formatting\n",
    "weight = weight_log.copy()\n",
    "weight['Date'] = pd.to_datetime(weight['Date'], format=\"%m/%d/%Y %I:%M:%S %p\")\n",
    "\n",
    "# Sleep log dataset date formatting\n",
    "sleep = sleep_log.copy()\n",
    "sleep['SleepDay'] = pd.to_datetime(sleep['SleepDay'], format=\"%m/%d/%Y %I:%M:%S %p\")\n",
    "\n",
    "print(\"Daily Dataset\", df1['ActivityDay'].dtype,\n",
    "      \"\\nHeart Rate Dataset\", heart['Date'].dtype,\n",
    "      \"\\nWeight Log Dataset\", weight['Date'].dtype,\n",
    "      \"\\nSleep Log Dataset\", sleep['SleepDay'].dtype)"
   ]
  },
  {
   "cell_type": "markdown",
   "metadata": {},
   "source": [
    "Making a copy to work with, so the original data available as a back-up. Creating a new column `DayOfTheWeek` by extrating data from the `ActivityDay`. With the data available for 2 month `DayOfTheWeek` would help to understand the pattern of the fitbit data."
   ]
  },
  {
   "cell_type": "code",
   "execution_count": 78,
   "metadata": {},
   "outputs": [
    {
     "data": {
      "text/plain": [
       "DayOfTheWeek\n",
       "Tuesday      452381\n",
       "Wednesday    399232\n",
       "Thursday     359146\n",
       "Friday       357594\n",
       "Saturday     338394\n",
       "Monday       289764\n",
       "Sunday       287147\n",
       "Name: count, dtype: int64"
      ]
     },
     "execution_count": 78,
     "metadata": {},
     "output_type": "execute_result"
    }
   ],
   "source": [
    "# reindex function to rearrange the data\n",
    "df_2= df1.copy()\n",
    "\n",
    "# print 1st 5 rows to confirm\n",
    "df_2['DayOfTheWeek'] = df_2['ActivityDay'].dt.day_name()\n",
    "df_2.DayOfTheWeek.value_counts()\n",
    "# df_2.info()\n",
    "\n",
    "heart['DayOfTheWeek'] = heart['Date'].dt.day_name()\n",
    "heart.DayOfTheWeek.value_counts()"
   ]
  },
  {
   "cell_type": "markdown",
   "metadata": {},
   "source": [
    "To save time when checking each row and column for duplicates, a function called check_columns_match was developed. This function compares data at each index for columns with the same name. To keep the process simple, columns ending with `_x` were assigned to the `x` variable, while those ending with `_y` were assigned to the `y` variable.\n",
    "\n",
    "\n",
    "The function outputs whether the columns match or mismatch. If the data matches, the duplicate column will be dropped to reduce redundancy. Just to make sure the function is working properly  2 different columns were added to the variables."
   ]
  },
  {
   "cell_type": "code",
   "execution_count": 79,
   "metadata": {},
   "outputs": [
    {
     "name": "stdout",
     "output_type": "stream",
     "text": [
      "Match: All values in columns 'VeryActiveMinutes_x' and 'VeryActiveMinutes_y' are the same.\n",
      "Match: All values in columns 'FairlyActiveMinutes_x' and 'FairlyActiveMinutes_y' are the same.\n",
      "Match: All values in columns 'LightlyActiveMinutes_x' and 'LightlyActiveMinutes_y' are the same.\n",
      "Match: All values in columns 'SedentaryMinutes_x' and 'SedentaryMinutes_y' are the same.\n",
      "Match: All values in columns 'VeryActiveDistance_x' and 'VeryActiveDistance_y' are the same.\n",
      "Match: All values in columns 'ModeratelyActiveDistance_x' and 'ModeratelyActiveDistance_y' are the same.\n",
      "Match: All values in columns 'LightActiveDistance_x' and 'LightActiveDistance_y' are the same.\n",
      "Match: All values in columns 'SedentaryActiveDistance_x' and 'SedentaryActiveDistance_y' are the same.\n",
      "Match: All values in columns 'Calories_x' and 'Calories_y' are the same.\n",
      "Match: All values in columns 'TotalSteps' and 'StepTotal' are the same.\n",
      "\n",
      "Mismatch in columns 'TotalSteps' and 'TrackerDistance' at index 0\n",
      "Mismatch: Not all values in columns 'TotalSteps' and 'TrackerDistance' are the same.\n"
     ]
    }
   ],
   "source": [
    "# to check if the data in these columns are same \n",
    "x = ['VeryActiveMinutes_x', 'FairlyActiveMinutes_x', 'LightlyActiveMinutes_x', 'SedentaryMinutes_x','VeryActiveDistance_x', 'ModeratelyActiveDistance_x', 'LightActiveDistance_x', 'SedentaryActiveDistance_x', 'Calories_x','TotalSteps','TotalSteps']\n",
    "y = ['VeryActiveMinutes_y', 'FairlyActiveMinutes_y', 'LightlyActiveMinutes_y', 'SedentaryMinutes_y','VeryActiveDistance_y', 'ModeratelyActiveDistance_y', 'LightActiveDistance_y', 'SedentaryActiveDistance_y', 'Calories_y','StepTotal','TrackerDistance']\n",
    "    \n",
    "\n",
    "def check_columns_match(df, col_x_list, col_y_list):\n",
    "    for col_x, col_y in zip(col_x_list, col_y_list):\n",
    "        match = True\n",
    "        for i in range(len(df)):\n",
    "            if df[col_x][i] != df[col_y][i]:\n",
    "                match = False\n",
    "                print(f\"\\nMismatch in columns '{col_x}' and '{col_y}' at index {i}\")\n",
    "                break\n",
    "\n",
    "        if match:\n",
    "            print(f\"Match: All values in columns '{col_x}' and '{col_y}' are the same.\")\n",
    "        else:\n",
    "            print(f\"Mismatch: Not all values in columns '{col_x}' and '{col_y}' are the same.\")\n",
    "\n",
    "\n",
    "check_columns_match(df_2, x, y)"
   ]
  },
  {
   "cell_type": "markdown",
   "metadata": {},
   "source": [
    "All columns in the `x` variable `match` with those in the `y`. Therefore, to improve efficiency and reduce redundancy, all columns ending with `_y` will be dropped."
   ]
  },
  {
   "cell_type": "code",
   "execution_count": 80,
   "metadata": {},
   "outputs": [
    {
     "name": "stdout",
     "output_type": "stream",
     "text": [
      "<class 'pandas.core.frame.DataFrame'>\n",
      "RangeIndex: 940 entries, 0 to 939\n",
      "Data columns (total 16 columns):\n",
      " #   Column                      Non-Null Count  Dtype         \n",
      "---  ------                      --------------  -----         \n",
      " 0   Id                          940 non-null    int64         \n",
      " 1   ActivityDay                 940 non-null    datetime64[ns]\n",
      " 2   TotalSteps                  940 non-null    int64         \n",
      " 3   TotalDistance               940 non-null    float64       \n",
      " 4   TrackerDistance             940 non-null    float64       \n",
      " 5   LoggedActivitiesDistance    940 non-null    float64       \n",
      " 6   VeryActiveDistance_x        940 non-null    float64       \n",
      " 7   ModeratelyActiveDistance_x  940 non-null    float64       \n",
      " 8   LightActiveDistance_x       940 non-null    float64       \n",
      " 9   SedentaryActiveDistance_x   940 non-null    float64       \n",
      " 10  VeryActiveMinutes_x         940 non-null    int64         \n",
      " 11  FairlyActiveMinutes_x       940 non-null    int64         \n",
      " 12  LightlyActiveMinutes_x      940 non-null    int64         \n",
      " 13  SedentaryMinutes_x          940 non-null    int64         \n",
      " 14  Calories_x                  940 non-null    int64         \n",
      " 15  DayOfTheWeek                940 non-null    object        \n",
      "dtypes: datetime64[ns](1), float64(7), int64(7), object(1)\n",
      "memory usage: 117.6+ KB\n"
     ]
    }
   ],
   "source": [
    "# deleting duplicate columns\n",
    "df_2 = df_2.drop(columns = ['VeryActiveMinutes_y', 'FairlyActiveMinutes_y', 'LightlyActiveMinutes_y', 'SedentaryMinutes_y', \n",
    "        'VeryActiveDistance_y', 'ModeratelyActiveDistance_y', 'LightActiveDistance_y', 'SedentaryActiveDistance_y', 'Calories_y','StepTotal'])\n",
    "df_2.info()"
   ]
  },
  {
   "cell_type": "markdown",
   "metadata": {},
   "source": [
    "I have created a new column, `total_mins` & `total_hours`, to aggregate the total time spent across all activity phases, providing a comprehensive view of the overall activity duration."
   ]
  },
  {
   "cell_type": "code",
   "execution_count": 81,
   "metadata": {},
   "outputs": [
    {
     "data": {
      "text/html": [
       "<div>\n",
       "<style scoped>\n",
       "    .dataframe tbody tr th:only-of-type {\n",
       "        vertical-align: middle;\n",
       "    }\n",
       "\n",
       "    .dataframe tbody tr th {\n",
       "        vertical-align: top;\n",
       "    }\n",
       "\n",
       "    .dataframe thead th {\n",
       "        text-align: right;\n",
       "    }\n",
       "</style>\n",
       "<table border=\"1\" class=\"dataframe\">\n",
       "  <thead>\n",
       "    <tr style=\"text-align: right;\">\n",
       "      <th></th>\n",
       "      <th>total_mins</th>\n",
       "      <th>total_hours</th>\n",
       "      <th>DayOfTheWeek</th>\n",
       "    </tr>\n",
       "  </thead>\n",
       "  <tbody>\n",
       "    <tr>\n",
       "      <th>0</th>\n",
       "      <td>1094</td>\n",
       "      <td>18.0</td>\n",
       "      <td>Tuesday</td>\n",
       "    </tr>\n",
       "    <tr>\n",
       "      <th>1</th>\n",
       "      <td>1033</td>\n",
       "      <td>17.0</td>\n",
       "      <td>Wednesday</td>\n",
       "    </tr>\n",
       "    <tr>\n",
       "      <th>2</th>\n",
       "      <td>1440</td>\n",
       "      <td>24.0</td>\n",
       "      <td>Thursday</td>\n",
       "    </tr>\n",
       "    <tr>\n",
       "      <th>3</th>\n",
       "      <td>998</td>\n",
       "      <td>17.0</td>\n",
       "      <td>Friday</td>\n",
       "    </tr>\n",
       "    <tr>\n",
       "      <th>4</th>\n",
       "      <td>1040</td>\n",
       "      <td>17.0</td>\n",
       "      <td>Saturday</td>\n",
       "    </tr>\n",
       "    <tr>\n",
       "      <th>5</th>\n",
       "      <td>761</td>\n",
       "      <td>13.0</td>\n",
       "      <td>Sunday</td>\n",
       "    </tr>\n",
       "    <tr>\n",
       "      <th>6</th>\n",
       "      <td>1440</td>\n",
       "      <td>24.0</td>\n",
       "      <td>Monday</td>\n",
       "    </tr>\n",
       "    <tr>\n",
       "      <th>7</th>\n",
       "      <td>1120</td>\n",
       "      <td>19.0</td>\n",
       "      <td>Tuesday</td>\n",
       "    </tr>\n",
       "    <tr>\n",
       "      <th>8</th>\n",
       "      <td>1063</td>\n",
       "      <td>18.0</td>\n",
       "      <td>Wednesday</td>\n",
       "    </tr>\n",
       "    <tr>\n",
       "      <th>9</th>\n",
       "      <td>1076</td>\n",
       "      <td>18.0</td>\n",
       "      <td>Thursday</td>\n",
       "    </tr>\n",
       "  </tbody>\n",
       "</table>\n",
       "</div>"
      ],
      "text/plain": [
       "   total_mins  total_hours DayOfTheWeek\n",
       "0        1094         18.0      Tuesday\n",
       "1        1033         17.0    Wednesday\n",
       "2        1440         24.0     Thursday\n",
       "3         998         17.0       Friday\n",
       "4        1040         17.0     Saturday\n",
       "5         761         13.0       Sunday\n",
       "6        1440         24.0       Monday\n",
       "7        1120         19.0      Tuesday\n",
       "8        1063         18.0    Wednesday\n",
       "9        1076         18.0     Thursday"
      ]
     },
     "execution_count": 81,
     "metadata": {},
     "output_type": "execute_result"
    }
   ],
   "source": [
    "#total mins column\n",
    "df_2['total_mins'] = df_2['VeryActiveMinutes_x'] + df_2['FairlyActiveMinutes_x'] + df_2['LightlyActiveMinutes_x'] + df_2['SedentaryMinutes_x'] \n",
    "\n",
    "#total hours column\n",
    "df_2['total_hours'] =round(df_2['total_mins']/60)\n",
    "\n",
    "df_2[['total_mins','total_hours','DayOfTheWeek']].head(10)"
   ]
  },
  {
   "cell_type": "markdown",
   "metadata": {},
   "source": [
    "### Sleep\n",
    "creating new column in the sleep dataset to check the awake time in bed"
   ]
  },
  {
   "cell_type": "code",
   "execution_count": 82,
   "metadata": {},
   "outputs": [
    {
     "name": "stdout",
     "output_type": "stream",
     "text": [
      "Total Participants: 24\n"
     ]
    },
    {
     "data": {
      "text/html": [
       "<div>\n",
       "<style scoped>\n",
       "    .dataframe tbody tr th:only-of-type {\n",
       "        vertical-align: middle;\n",
       "    }\n",
       "\n",
       "    .dataframe tbody tr th {\n",
       "        vertical-align: top;\n",
       "    }\n",
       "\n",
       "    .dataframe thead th {\n",
       "        text-align: right;\n",
       "    }\n",
       "</style>\n",
       "<table border=\"1\" class=\"dataframe\">\n",
       "  <thead>\n",
       "    <tr style=\"text-align: right;\">\n",
       "      <th></th>\n",
       "      <th>Id</th>\n",
       "      <th>SleepDay</th>\n",
       "      <th>TotalSleepRecords</th>\n",
       "      <th>TotalMinutesAsleep</th>\n",
       "      <th>TotalTimeInBed</th>\n",
       "      <th>inBed_awake</th>\n",
       "    </tr>\n",
       "  </thead>\n",
       "  <tbody>\n",
       "    <tr>\n",
       "      <th>0</th>\n",
       "      <td>1503960366</td>\n",
       "      <td>2016-04-12</td>\n",
       "      <td>1</td>\n",
       "      <td>327</td>\n",
       "      <td>346</td>\n",
       "      <td>19</td>\n",
       "    </tr>\n",
       "    <tr>\n",
       "      <th>1</th>\n",
       "      <td>1503960366</td>\n",
       "      <td>2016-04-13</td>\n",
       "      <td>2</td>\n",
       "      <td>384</td>\n",
       "      <td>407</td>\n",
       "      <td>23</td>\n",
       "    </tr>\n",
       "    <tr>\n",
       "      <th>2</th>\n",
       "      <td>1503960366</td>\n",
       "      <td>2016-04-15</td>\n",
       "      <td>1</td>\n",
       "      <td>412</td>\n",
       "      <td>442</td>\n",
       "      <td>30</td>\n",
       "    </tr>\n",
       "    <tr>\n",
       "      <th>3</th>\n",
       "      <td>1503960366</td>\n",
       "      <td>2016-04-16</td>\n",
       "      <td>2</td>\n",
       "      <td>340</td>\n",
       "      <td>367</td>\n",
       "      <td>27</td>\n",
       "    </tr>\n",
       "    <tr>\n",
       "      <th>4</th>\n",
       "      <td>1503960366</td>\n",
       "      <td>2016-04-17</td>\n",
       "      <td>1</td>\n",
       "      <td>700</td>\n",
       "      <td>712</td>\n",
       "      <td>12</td>\n",
       "    </tr>\n",
       "  </tbody>\n",
       "</table>\n",
       "</div>"
      ],
      "text/plain": [
       "           Id   SleepDay  TotalSleepRecords  TotalMinutesAsleep  TotalTimeInBed  inBed_awake\n",
       "0  1503960366 2016-04-12                  1                 327             346           19\n",
       "1  1503960366 2016-04-13                  2                 384             407           23\n",
       "2  1503960366 2016-04-15                  1                 412             442           30\n",
       "3  1503960366 2016-04-16                  2                 340             367           27\n",
       "4  1503960366 2016-04-17                  1                 700             712           12"
      ]
     },
     "execution_count": 82,
     "metadata": {},
     "output_type": "execute_result"
    }
   ],
   "source": [
    "sleep['inBed_awake'] = sleep.TotalTimeInBed - sleep.TotalMinutesAsleep\n",
    "\n",
    "print(\"Total Participants:\", sleep.Id.nunique())\n",
    "sleep.head(5)"
   ]
  },
  {
   "cell_type": "markdown",
   "metadata": {},
   "source": [
    "Checking mean awake time in bed by Id"
   ]
  },
  {
   "cell_type": "code",
   "execution_count": 83,
   "metadata": {},
   "outputs": [
    {
     "data": {
      "text/html": [
       "<div>\n",
       "<style scoped>\n",
       "    .dataframe tbody tr th:only-of-type {\n",
       "        vertical-align: middle;\n",
       "    }\n",
       "\n",
       "    .dataframe tbody tr th {\n",
       "        vertical-align: top;\n",
       "    }\n",
       "\n",
       "    .dataframe thead th {\n",
       "        text-align: right;\n",
       "    }\n",
       "</style>\n",
       "<table border=\"1\" class=\"dataframe\">\n",
       "  <thead>\n",
       "    <tr style=\"text-align: right;\">\n",
       "      <th></th>\n",
       "      <th>Id</th>\n",
       "      <th>mean_inBed_awake</th>\n",
       "      <th>mean_sleep</th>\n",
       "    </tr>\n",
       "  </thead>\n",
       "  <tbody>\n",
       "    <tr>\n",
       "      <th>0</th>\n",
       "      <td>1503960366</td>\n",
       "      <td>22.92</td>\n",
       "      <td>360.28</td>\n",
       "    </tr>\n",
       "    <tr>\n",
       "      <th>1</th>\n",
       "      <td>1644430081</td>\n",
       "      <td>52.00</td>\n",
       "      <td>294.00</td>\n",
       "    </tr>\n",
       "    <tr>\n",
       "      <th>2</th>\n",
       "      <td>1844505072</td>\n",
       "      <td>309.00</td>\n",
       "      <td>652.00</td>\n",
       "    </tr>\n",
       "    <tr>\n",
       "      <th>3</th>\n",
       "      <td>1927972279</td>\n",
       "      <td>20.80</td>\n",
       "      <td>417.00</td>\n",
       "    </tr>\n",
       "  </tbody>\n",
       "</table>\n",
       "</div>"
      ],
      "text/plain": [
       "           Id  mean_inBed_awake  mean_sleep\n",
       "0  1503960366             22.92      360.28\n",
       "1  1644430081             52.00      294.00\n",
       "2  1844505072            309.00      652.00\n",
       "3  1927972279             20.80      417.00"
      ]
     },
     "execution_count": 83,
     "metadata": {},
     "output_type": "execute_result"
    }
   ],
   "source": [
    "# checking mean sleep and awake time for each id\n",
    "awake_mean_df = sleep[[\"Id\",\"inBed_awake\",\"TotalMinutesAsleep\"]]\n",
    "\n",
    "awake_mean = awake_mean_df.groupby(\"Id\")['inBed_awake'].mean().reset_index()\n",
    "sleep_mean = awake_mean_df.groupby(\"Id\")['TotalMinutesAsleep'].mean().reset_index()\n",
    "\n",
    "sleep_mean_df = pd.merge(awake_mean, sleep_mean, on=\"Id\")\n",
    "\n",
    "sleep_mean_df.columns = [\"Id\",\"mean_inBed_awake\",\"mean_sleep\"]\n",
    "sleep_mean_df.head(4)"
   ]
  },
  {
   "cell_type": "markdown",
   "metadata": {},
   "source": [
    "### Weight\n",
    "In the weight dataset, a new column Month was created to separate the data by month, allowing for a more detailed analysis of variations in the weightKg column."
   ]
  },
  {
   "cell_type": "code",
   "execution_count": 84,
   "metadata": {},
   "outputs": [
    {
     "name": "stdout",
     "output_type": "stream",
     "text": [
      "April Id count 5 \n",
      "May Id count 5\n"
     ]
    }
   ],
   "source": [
    "\n",
    "# Extract the month from the 'Date' column and create a new 'Month' column\n",
    "weight['Month'] = weight['Date'].dt.month\n",
    "weight.Month.head()\n",
    "\n",
    "april_raw = weight[weight['Month'] == 4]\n",
    "may_raw = weight[weight['Month'] == 5]\n",
    "\n",
    "# print(april['Id'].unique())\n",
    "# print(may['Id'].unique())\n",
    "\n",
    "april = april_raw[april_raw['Id'].isin(may_raw['Id'])]  # Full rows from April\n",
    "may = may_raw[may_raw['Id'].isin(april_raw['Id'])] \n",
    "print('April Id count',april.Id.nunique(),\n",
    "        '\\nMay Id count',may.Id.nunique())\n"
   ]
  },
  {
   "cell_type": "code",
   "execution_count": 85,
   "metadata": {},
   "outputs": [
    {
     "name": "stdout",
     "output_type": "stream",
     "text": [
      "           April                   May           \n",
      "             BMI   WeightKg        BMI   WeightKg\n",
      "count  38.000000  38.000000  25.000000  25.000000\n",
      "mean   24.847895  72.118422  24.894000  70.260000\n",
      "std     1.170937  11.639561   1.340469  10.841549\n",
      "min    21.450001  56.700001  21.690001  57.299999\n",
      "25%    23.969999  61.425001  24.000000  61.500000\n",
      "50%    24.840000  66.099998  24.350000  62.400002\n",
      "75%    25.559999  85.099998  25.559999  84.400002\n",
      "max    27.459999  85.800003  27.379999  85.500000\n"
     ]
    }
   ],
   "source": [
    "april_stats = april[[\"BMI\", \"WeightKg\"]].describe()\n",
    "may_stats = may[[\"BMI\", \"WeightKg\"]].describe()\n",
    "\n",
    "# Combine side by side for comparison\n",
    "comparison = pd.concat([april_stats, may_stats], axis=1, keys=['April', 'May'])\n",
    "\n",
    "# Display result\n",
    "print(comparison)"
   ]
  },
  {
   "cell_type": "markdown",
   "metadata": {},
   "source": [
    "Going in depth to check if any  change occured in the of the participating women"
   ]
  },
  {
   "cell_type": "code",
   "execution_count": 86,
   "metadata": {},
   "outputs": [
    {
     "name": "stdout",
     "output_type": "stream",
     "text": [
      "            April_BMI   WeightKg    May_BMI   WeightKg\n",
      "Id                                                    \n",
      "2873212765  21.450001  56.700001  21.690001  57.299999\n",
      "4319703577  27.450001  72.400002  27.379999  72.300003\n",
      "4558609924  27.355000  70.000000  27.120000  69.399999\n",
      "6962181067  24.023888  61.544445  24.034167  61.566667\n",
      "8877689391  25.511250  85.225001  25.438750  84.987501\n"
     ]
    }
   ],
   "source": [
    "# Checking weight and BMI for each id for April and May\n",
    "april_stats = april.groupby('Id')[[\"BMI\", \"WeightKg\"]].mean().rename(columns={'BMI': 'April_BMI'})\n",
    "may_stats = may.groupby('Id')[[\"BMI\", \"WeightKg\"]].mean().rename(columns={'BMI': 'May_BMI'})\n",
    "\n",
    "combined_stats = pd.concat([april_stats, may_stats], axis=1)\n",
    "\n",
    "# Display the combined stats\n",
    "print(combined_stats)\n"
   ]
  },
  {
   "cell_type": "markdown",
   "metadata": {},
   "source": [
    "Over the two-month period of data collection, the weight dataset shows minimal variation in BMI and weight statistics across participants, indicating largely consistent results throughout the period.\n"
   ]
  },
  {
   "cell_type": "markdown",
   "metadata": {},
   "source": [
    "### Heart\n",
    "The heart dataset is the biggest dataset amoungst all the dataset in this study. Creating hour column to distribute the data in hours section to analyze property. This will help us get insight of the participant's overall movement based on the heartrate."
   ]
  },
  {
   "cell_type": "code",
   "execution_count": 87,
   "metadata": {},
   "outputs": [
    {
     "data": {
      "text/html": [
       "<div>\n",
       "<style scoped>\n",
       "    .dataframe tbody tr th:only-of-type {\n",
       "        vertical-align: middle;\n",
       "    }\n",
       "\n",
       "    .dataframe tbody tr th {\n",
       "        vertical-align: top;\n",
       "    }\n",
       "\n",
       "    .dataframe thead th {\n",
       "        text-align: right;\n",
       "    }\n",
       "</style>\n",
       "<table border=\"1\" class=\"dataframe\">\n",
       "  <thead>\n",
       "    <tr style=\"text-align: right;\">\n",
       "      <th></th>\n",
       "      <th>Id</th>\n",
       "      <th>Time</th>\n",
       "      <th>Value</th>\n",
       "      <th>Date</th>\n",
       "      <th>DayOfTheWeek</th>\n",
       "      <th>Hour</th>\n",
       "    </tr>\n",
       "  </thead>\n",
       "  <tbody>\n",
       "    <tr>\n",
       "      <th>0</th>\n",
       "      <td>2022484408</td>\n",
       "      <td>4/12/2016 7:21:00 AM</td>\n",
       "      <td>97</td>\n",
       "      <td>2016-04-12 07:21:00</td>\n",
       "      <td>Tuesday</td>\n",
       "      <td>7</td>\n",
       "    </tr>\n",
       "    <tr>\n",
       "      <th>1</th>\n",
       "      <td>2022484408</td>\n",
       "      <td>4/12/2016 7:21:05 AM</td>\n",
       "      <td>102</td>\n",
       "      <td>2016-04-12 07:21:05</td>\n",
       "      <td>Tuesday</td>\n",
       "      <td>7</td>\n",
       "    </tr>\n",
       "    <tr>\n",
       "      <th>2</th>\n",
       "      <td>2022484408</td>\n",
       "      <td>4/12/2016 7:21:10 AM</td>\n",
       "      <td>105</td>\n",
       "      <td>2016-04-12 07:21:10</td>\n",
       "      <td>Tuesday</td>\n",
       "      <td>7</td>\n",
       "    </tr>\n",
       "    <tr>\n",
       "      <th>3</th>\n",
       "      <td>2022484408</td>\n",
       "      <td>4/12/2016 7:21:20 AM</td>\n",
       "      <td>103</td>\n",
       "      <td>2016-04-12 07:21:20</td>\n",
       "      <td>Tuesday</td>\n",
       "      <td>7</td>\n",
       "    </tr>\n",
       "    <tr>\n",
       "      <th>4</th>\n",
       "      <td>2022484408</td>\n",
       "      <td>4/12/2016 7:21:25 AM</td>\n",
       "      <td>101</td>\n",
       "      <td>2016-04-12 07:21:25</td>\n",
       "      <td>Tuesday</td>\n",
       "      <td>7</td>\n",
       "    </tr>\n",
       "  </tbody>\n",
       "</table>\n",
       "</div>"
      ],
      "text/plain": [
       "           Id                  Time  Value                Date DayOfTheWeek  Hour\n",
       "0  2022484408  4/12/2016 7:21:00 AM     97 2016-04-12 07:21:00      Tuesday     7\n",
       "1  2022484408  4/12/2016 7:21:05 AM    102 2016-04-12 07:21:05      Tuesday     7\n",
       "2  2022484408  4/12/2016 7:21:10 AM    105 2016-04-12 07:21:10      Tuesday     7\n",
       "3  2022484408  4/12/2016 7:21:20 AM    103 2016-04-12 07:21:20      Tuesday     7\n",
       "4  2022484408  4/12/2016 7:21:25 AM    101 2016-04-12 07:21:25      Tuesday     7"
      ]
     },
     "execution_count": 87,
     "metadata": {},
     "output_type": "execute_result"
    }
   ],
   "source": [
    "# creating new column and formatting it to hours\n",
    "heart['Hour'] = pd.to_datetime(heart['Time'], format='%m/%d/%Y %I:%M:%S %p').dt.hour\n",
    "heart.head(5)"
   ]
  },
  {
   "cell_type": "markdown",
   "metadata": {},
   "source": [
    "### Overall Stats\n",
    "In this section, we calculate and summarize key metrics related to the participants’ activity, health, and movement patterns, which are crucial for the visualizations that will be presented later. The variables include the average mean of minutes and hours, distance  and count of the weekdays.Additionally, we analyze the average distance traveled and the total steps taken by participants, providing insights into their physical movement.\n",
    "\n",
    "These metrics serve as the foundation for visualizing overall trends and behaviors of the participants, which will help Bellabeat understand user engagement with their devices. By analyzing these metrics, we can gain valuable insights into how active users are on average."
   ]
  },
  {
   "cell_type": "code",
   "execution_count": 88,
   "metadata": {},
   "outputs": [
    {
     "name": "stdout",
     "output_type": "stream",
     "text": [
      "\n",
      "          Day Count \n",
      "Monday: 120 \n",
      "Tuesday: 152 \n",
      "Wednesday: 150 \n",
      "Thursday: 147 \n",
      "Friday: 126 \n",
      "Saturday: 124 \n",
      "Sunday: 121\n",
      "\n",
      "          Mean Data for minutes and hours \n",
      "mean_calories : 2303.61 \n",
      "mean_hours : 20.31 \n",
      "mean_sedentary : 16.52 \n",
      "mean_light : 3.21 \n",
      "mean_fairlyActive : 13.56 \n",
      "mean_V_active : 0.35\n",
      "\n",
      "          Mean Data for Distance \n",
      "mean_calories_d : 2303.61 \n",
      "mean_distance_d : 5.49 \n",
      "mean_sedentary_d : 0.002 \n",
      "mean_light_d : 3.341 \n",
      "mean_moderate_d : 0.568 \n",
      "mean_V_active_d : 1.503 \n",
      "mean_logged_d : 0.108 \n",
      "mean_tracker_d : 5.475\n",
      "\n",
      "          Mean Data for Steps \n",
      "mean_steps : 7637.911 \n",
      "mean_distance : 5.49\n"
     ]
    }
   ],
   "source": [
    "# Function for day count\n",
    "def count_day(day_of_week):\n",
    "    count = 0\n",
    "    for day in df_2.DayOfTheWeek:\n",
    "        if day == day_of_week:\n",
    "            count += 1\n",
    "    return count\n",
    "\n",
    "# Count the occurrences for each day of the week\n",
    "Mon = count_day(\"Monday\")\n",
    "Tue = count_day(\"Tuesday\")\n",
    "Wed = count_day(\"Wednesday\")\n",
    "Thu = count_day(\"Thursday\")\n",
    "Fri = count_day(\"Friday\")\n",
    "Sat = count_day(\"Saturday\")\n",
    "Sun = count_day(\"Sunday\")\n",
    "\n",
    "# Print the count for each day\n",
    "print(f\"\\n{\" \"*10}Day Count\",\n",
    "      \"\\nMonday:\", Mon,\n",
    "      \"\\nTuesday:\", Tue,\n",
    "      \"\\nWednesday:\", Wed,\n",
    "      \"\\nThursday:\", Thu,\n",
    "      \"\\nFriday:\", Fri,\n",
    "      \"\\nSaturday:\", Sat,\n",
    "      \"\\nSunday:\", Sun)\n",
    "\n",
    "# Mean statistics for minutes and hours\n",
    "mean_calories = round(df_2.Calories_x.mean(), 2)\n",
    "mean_hours = round(df_2.total_hours.mean(), 2)\n",
    "mean_sedentary = round(df_2.SedentaryMinutes_x.mean() / 60, 2)  \n",
    "mean_light = round(df_2.LightlyActiveMinutes_x.mean() / 60, 2)  \n",
    "mean_fairlyActive = round(df_2.FairlyActiveMinutes_x.mean(), 2)\n",
    "mean_V_active = round(df_2.VeryActiveMinutes_x.mean() / 60, 2)  \n",
    "\n",
    "print(f\"\\n{' ' * 10}Mean Data for minutes and hours\",\n",
    "      f\"\\nmean_calories : {mean_calories}\",\n",
    "      f\"\\nmean_hours : {mean_hours}\",\n",
    "      f\"\\nmean_sedentary : {mean_sedentary}\",\n",
    "      f\"\\nmean_light : {mean_light}\",\n",
    "      f\"\\nmean_fairlyActive : {mean_fairlyActive}\",\n",
    "      f\"\\nmean_V_active : {mean_V_active}\")\n",
    "\n",
    "# Mean distance statistics\n",
    "mean_calories_d = round(df_2.Calories_x.mean(), 3)\n",
    "mean_distance_d = round(df_2.TotalDistance.mean(), 3)\n",
    "mean_sedentary_d = round(df_2.SedentaryActiveDistance_x.mean(), 3)\n",
    "mean_light_d = round(df_2.LightActiveDistance_x.mean(), 3)\n",
    "mean_moderate_d = round(df_2.ModeratelyActiveDistance_x.mean(), 3)\n",
    "mean_V_active_d = round(df_2.VeryActiveDistance_x.mean(), 3)\n",
    "mean_logged_d = round(df_2.LoggedActivitiesDistance.mean(), 3)\n",
    "mean_tracker_d = round(df_2.TrackerDistance.mean(), 3)\n",
    "\n",
    "print(f\"\\n{' ' * 10}Mean Data for Distance\",\n",
    "      f\"\\nmean_calories_d : {mean_calories_d}\",\n",
    "      f\"\\nmean_distance_d : {mean_distance_d}\",\n",
    "      f\"\\nmean_sedentary_d : {mean_sedentary_d}\",\n",
    "      f\"\\nmean_light_d : {mean_light_d}\",\n",
    "      f\"\\nmean_moderate_d : {mean_moderate_d}\",\n",
    "      f\"\\nmean_V_active_d : {mean_V_active_d}\",\n",
    "      f\"\\nmean_logged_d : {mean_logged_d}\",\n",
    "      f\"\\nmean_tracker_d : {mean_tracker_d}\")\n",
    "\n",
    "# Mean steps statistics\n",
    "mean_steps = round(df_2.TotalSteps.mean(), 3)\n",
    "mean_distance = round(df_2.TotalDistance.mean(), 3)\n",
    "\n",
    "print(f\"\\n{' ' * 10}Mean Data for Steps\",\n",
    "      f\"\\nmean_steps : {mean_steps}\",\n",
    "      f\"\\nmean_distance : {mean_distance}\")"
   ]
  },
  {
   "cell_type": "code",
   "execution_count": 89,
   "metadata": {},
   "outputs": [
    {
     "data": {
      "text/html": [
       "<div>\n",
       "<style scoped>\n",
       "    .dataframe tbody tr th:only-of-type {\n",
       "        vertical-align: middle;\n",
       "    }\n",
       "\n",
       "    .dataframe tbody tr th {\n",
       "        vertical-align: top;\n",
       "    }\n",
       "\n",
       "    .dataframe thead th {\n",
       "        text-align: right;\n",
       "    }\n",
       "</style>\n",
       "<table border=\"1\" class=\"dataframe\">\n",
       "  <thead>\n",
       "    <tr style=\"text-align: right;\">\n",
       "      <th></th>\n",
       "      <th>Id</th>\n",
       "      <th>ActivityDay</th>\n",
       "      <th>TotalSteps</th>\n",
       "      <th>TotalDistance</th>\n",
       "      <th>TrackerDistance</th>\n",
       "      <th>LoggedActivitiesDistance</th>\n",
       "      <th>VeryActiveDistance_x</th>\n",
       "      <th>ModeratelyActiveDistance_x</th>\n",
       "      <th>LightActiveDistance_x</th>\n",
       "      <th>SedentaryActiveDistance_x</th>\n",
       "      <th>VeryActiveMinutes_x</th>\n",
       "      <th>FairlyActiveMinutes_x</th>\n",
       "      <th>LightlyActiveMinutes_x</th>\n",
       "      <th>SedentaryMinutes_x</th>\n",
       "      <th>Calories_x</th>\n",
       "      <th>total_mins</th>\n",
       "      <th>total_hours</th>\n",
       "    </tr>\n",
       "  </thead>\n",
       "  <tbody>\n",
       "    <tr>\n",
       "      <th>count</th>\n",
       "      <td>9.400000e+02</td>\n",
       "      <td>940</td>\n",
       "      <td>940.000000</td>\n",
       "      <td>940.000000</td>\n",
       "      <td>940.000000</td>\n",
       "      <td>940.000000</td>\n",
       "      <td>940.000000</td>\n",
       "      <td>940.000000</td>\n",
       "      <td>940.000000</td>\n",
       "      <td>940.000000</td>\n",
       "      <td>940.000000</td>\n",
       "      <td>940.000000</td>\n",
       "      <td>940.000000</td>\n",
       "      <td>940.000000</td>\n",
       "      <td>940.000000</td>\n",
       "      <td>940.000000</td>\n",
       "      <td>940.000000</td>\n",
       "    </tr>\n",
       "    <tr>\n",
       "      <th>mean</th>\n",
       "      <td>4.855407e+09</td>\n",
       "      <td>2016-04-26 06:53:37.021276672</td>\n",
       "      <td>7637.910638</td>\n",
       "      <td>5.489702</td>\n",
       "      <td>5.475351</td>\n",
       "      <td>0.108171</td>\n",
       "      <td>1.502681</td>\n",
       "      <td>0.567543</td>\n",
       "      <td>3.340819</td>\n",
       "      <td>0.001606</td>\n",
       "      <td>21.164894</td>\n",
       "      <td>13.564894</td>\n",
       "      <td>192.812766</td>\n",
       "      <td>991.210638</td>\n",
       "      <td>2303.609574</td>\n",
       "      <td>1218.753191</td>\n",
       "      <td>20.313830</td>\n",
       "    </tr>\n",
       "    <tr>\n",
       "      <th>min</th>\n",
       "      <td>1.503960e+09</td>\n",
       "      <td>2016-04-12 00:00:00</td>\n",
       "      <td>0.000000</td>\n",
       "      <td>0.000000</td>\n",
       "      <td>0.000000</td>\n",
       "      <td>0.000000</td>\n",
       "      <td>0.000000</td>\n",
       "      <td>0.000000</td>\n",
       "      <td>0.000000</td>\n",
       "      <td>0.000000</td>\n",
       "      <td>0.000000</td>\n",
       "      <td>0.000000</td>\n",
       "      <td>0.000000</td>\n",
       "      <td>0.000000</td>\n",
       "      <td>0.000000</td>\n",
       "      <td>2.000000</td>\n",
       "      <td>0.000000</td>\n",
       "    </tr>\n",
       "    <tr>\n",
       "      <th>25%</th>\n",
       "      <td>2.320127e+09</td>\n",
       "      <td>2016-04-19 00:00:00</td>\n",
       "      <td>3789.750000</td>\n",
       "      <td>2.620000</td>\n",
       "      <td>2.620000</td>\n",
       "      <td>0.000000</td>\n",
       "      <td>0.000000</td>\n",
       "      <td>0.000000</td>\n",
       "      <td>1.945000</td>\n",
       "      <td>0.000000</td>\n",
       "      <td>0.000000</td>\n",
       "      <td>0.000000</td>\n",
       "      <td>127.000000</td>\n",
       "      <td>729.750000</td>\n",
       "      <td>1828.500000</td>\n",
       "      <td>989.750000</td>\n",
       "      <td>16.000000</td>\n",
       "    </tr>\n",
       "    <tr>\n",
       "      <th>50%</th>\n",
       "      <td>4.445115e+09</td>\n",
       "      <td>2016-04-26 00:00:00</td>\n",
       "      <td>7405.500000</td>\n",
       "      <td>5.245000</td>\n",
       "      <td>5.245000</td>\n",
       "      <td>0.000000</td>\n",
       "      <td>0.210000</td>\n",
       "      <td>0.240000</td>\n",
       "      <td>3.365000</td>\n",
       "      <td>0.000000</td>\n",
       "      <td>4.000000</td>\n",
       "      <td>6.000000</td>\n",
       "      <td>199.000000</td>\n",
       "      <td>1057.500000</td>\n",
       "      <td>2134.000000</td>\n",
       "      <td>1440.000000</td>\n",
       "      <td>24.000000</td>\n",
       "    </tr>\n",
       "    <tr>\n",
       "      <th>75%</th>\n",
       "      <td>6.962181e+09</td>\n",
       "      <td>2016-05-04 00:00:00</td>\n",
       "      <td>10727.000000</td>\n",
       "      <td>7.712500</td>\n",
       "      <td>7.710000</td>\n",
       "      <td>0.000000</td>\n",
       "      <td>2.052500</td>\n",
       "      <td>0.800000</td>\n",
       "      <td>4.782500</td>\n",
       "      <td>0.000000</td>\n",
       "      <td>32.000000</td>\n",
       "      <td>19.000000</td>\n",
       "      <td>264.000000</td>\n",
       "      <td>1229.500000</td>\n",
       "      <td>2793.250000</td>\n",
       "      <td>1440.000000</td>\n",
       "      <td>24.000000</td>\n",
       "    </tr>\n",
       "    <tr>\n",
       "      <th>max</th>\n",
       "      <td>8.877689e+09</td>\n",
       "      <td>2016-05-12 00:00:00</td>\n",
       "      <td>36019.000000</td>\n",
       "      <td>28.030001</td>\n",
       "      <td>28.030001</td>\n",
       "      <td>4.942142</td>\n",
       "      <td>21.920000</td>\n",
       "      <td>6.480000</td>\n",
       "      <td>10.710000</td>\n",
       "      <td>0.110000</td>\n",
       "      <td>210.000000</td>\n",
       "      <td>143.000000</td>\n",
       "      <td>518.000000</td>\n",
       "      <td>1440.000000</td>\n",
       "      <td>4900.000000</td>\n",
       "      <td>1440.000000</td>\n",
       "      <td>24.000000</td>\n",
       "    </tr>\n",
       "    <tr>\n",
       "      <th>std</th>\n",
       "      <td>2.424805e+09</td>\n",
       "      <td>NaN</td>\n",
       "      <td>5087.150742</td>\n",
       "      <td>3.924606</td>\n",
       "      <td>3.907276</td>\n",
       "      <td>0.619897</td>\n",
       "      <td>2.658941</td>\n",
       "      <td>0.883580</td>\n",
       "      <td>2.040655</td>\n",
       "      <td>0.007346</td>\n",
       "      <td>32.844803</td>\n",
       "      <td>19.987404</td>\n",
       "      <td>109.174700</td>\n",
       "      <td>301.267437</td>\n",
       "      <td>718.166862</td>\n",
       "      <td>265.931767</td>\n",
       "      <td>4.437283</td>\n",
       "    </tr>\n",
       "  </tbody>\n",
       "</table>\n",
       "</div>"
      ],
      "text/plain": [
       "                 Id                    ActivityDay    TotalSteps  TotalDistance  TrackerDistance  LoggedActivitiesDistance  VeryActiveDistance_x  ModeratelyActiveDistance_x  LightActiveDistance_x  SedentaryActiveDistance_x  VeryActiveMinutes_x  FairlyActiveMinutes_x  LightlyActiveMinutes_x  SedentaryMinutes_x   Calories_x   total_mins  total_hours\n",
       "count  9.400000e+02                            940    940.000000     940.000000       940.000000                940.000000            940.000000                  940.000000             940.000000                 940.000000           940.000000             940.000000              940.000000          940.000000   940.000000   940.000000   940.000000\n",
       "mean   4.855407e+09  2016-04-26 06:53:37.021276672   7637.910638       5.489702         5.475351                  0.108171              1.502681                    0.567543               3.340819                   0.001606            21.164894              13.564894              192.812766          991.210638  2303.609574  1218.753191    20.313830\n",
       "min    1.503960e+09            2016-04-12 00:00:00      0.000000       0.000000         0.000000                  0.000000              0.000000                    0.000000               0.000000                   0.000000             0.000000               0.000000                0.000000            0.000000     0.000000     2.000000     0.000000\n",
       "25%    2.320127e+09            2016-04-19 00:00:00   3789.750000       2.620000         2.620000                  0.000000              0.000000                    0.000000               1.945000                   0.000000             0.000000               0.000000              127.000000          729.750000  1828.500000   989.750000    16.000000\n",
       "50%    4.445115e+09            2016-04-26 00:00:00   7405.500000       5.245000         5.245000                  0.000000              0.210000                    0.240000               3.365000                   0.000000             4.000000               6.000000              199.000000         1057.500000  2134.000000  1440.000000    24.000000\n",
       "75%    6.962181e+09            2016-05-04 00:00:00  10727.000000       7.712500         7.710000                  0.000000              2.052500                    0.800000               4.782500                   0.000000            32.000000              19.000000              264.000000         1229.500000  2793.250000  1440.000000    24.000000\n",
       "max    8.877689e+09            2016-05-12 00:00:00  36019.000000      28.030001        28.030001                  4.942142             21.920000                    6.480000              10.710000                   0.110000           210.000000             143.000000              518.000000         1440.000000  4900.000000  1440.000000    24.000000\n",
       "std    2.424805e+09                            NaN   5087.150742       3.924606         3.907276                  0.619897              2.658941                    0.883580               2.040655                   0.007346            32.844803              19.987404              109.174700          301.267437   718.166862   265.931767     4.437283"
      ]
     },
     "execution_count": 89,
     "metadata": {},
     "output_type": "execute_result"
    }
   ],
   "source": [
    "df_2.describe()"
   ]
  },
  {
   "cell_type": "code",
   "execution_count": 90,
   "metadata": {},
   "outputs": [
    {
     "data": {
      "text/html": [
       "<div>\n",
       "<style scoped>\n",
       "    .dataframe tbody tr th:only-of-type {\n",
       "        vertical-align: middle;\n",
       "    }\n",
       "\n",
       "    .dataframe tbody tr th {\n",
       "        vertical-align: top;\n",
       "    }\n",
       "\n",
       "    .dataframe thead th {\n",
       "        text-align: right;\n",
       "    }\n",
       "</style>\n",
       "<table border=\"1\" class=\"dataframe\">\n",
       "  <thead>\n",
       "    <tr style=\"text-align: right;\">\n",
       "      <th></th>\n",
       "      <th>Id</th>\n",
       "      <th>SleepDay</th>\n",
       "      <th>TotalSleepRecords</th>\n",
       "      <th>TotalMinutesAsleep</th>\n",
       "      <th>TotalTimeInBed</th>\n",
       "      <th>inBed_awake</th>\n",
       "    </tr>\n",
       "  </thead>\n",
       "  <tbody>\n",
       "    <tr>\n",
       "      <th>count</th>\n",
       "      <td>4.100000e+02</td>\n",
       "      <td>410</td>\n",
       "      <td>410.000000</td>\n",
       "      <td>410.000000</td>\n",
       "      <td>410.000000</td>\n",
       "      <td>410.000000</td>\n",
       "    </tr>\n",
       "    <tr>\n",
       "      <th>mean</th>\n",
       "      <td>4.994963e+09</td>\n",
       "      <td>2016-04-26 11:38:55.609756160</td>\n",
       "      <td>1.119512</td>\n",
       "      <td>419.173171</td>\n",
       "      <td>458.482927</td>\n",
       "      <td>39.309756</td>\n",
       "    </tr>\n",
       "    <tr>\n",
       "      <th>min</th>\n",
       "      <td>1.503960e+09</td>\n",
       "      <td>2016-04-12 00:00:00</td>\n",
       "      <td>1.000000</td>\n",
       "      <td>58.000000</td>\n",
       "      <td>61.000000</td>\n",
       "      <td>0.000000</td>\n",
       "    </tr>\n",
       "    <tr>\n",
       "      <th>25%</th>\n",
       "      <td>3.977334e+09</td>\n",
       "      <td>2016-04-19 00:00:00</td>\n",
       "      <td>1.000000</td>\n",
       "      <td>361.000000</td>\n",
       "      <td>403.750000</td>\n",
       "      <td>17.000000</td>\n",
       "    </tr>\n",
       "    <tr>\n",
       "      <th>50%</th>\n",
       "      <td>4.702922e+09</td>\n",
       "      <td>2016-04-27 00:00:00</td>\n",
       "      <td>1.000000</td>\n",
       "      <td>432.500000</td>\n",
       "      <td>463.000000</td>\n",
       "      <td>25.500000</td>\n",
       "    </tr>\n",
       "    <tr>\n",
       "      <th>75%</th>\n",
       "      <td>6.962181e+09</td>\n",
       "      <td>2016-05-04 00:00:00</td>\n",
       "      <td>1.000000</td>\n",
       "      <td>490.000000</td>\n",
       "      <td>526.000000</td>\n",
       "      <td>40.000000</td>\n",
       "    </tr>\n",
       "    <tr>\n",
       "      <th>max</th>\n",
       "      <td>8.792010e+09</td>\n",
       "      <td>2016-05-12 00:00:00</td>\n",
       "      <td>3.000000</td>\n",
       "      <td>796.000000</td>\n",
       "      <td>961.000000</td>\n",
       "      <td>371.000000</td>\n",
       "    </tr>\n",
       "    <tr>\n",
       "      <th>std</th>\n",
       "      <td>2.060863e+09</td>\n",
       "      <td>NaN</td>\n",
       "      <td>0.346636</td>\n",
       "      <td>118.635918</td>\n",
       "      <td>127.455140</td>\n",
       "      <td>46.710932</td>\n",
       "    </tr>\n",
       "  </tbody>\n",
       "</table>\n",
       "</div>"
      ],
      "text/plain": [
       "                 Id                       SleepDay  TotalSleepRecords  TotalMinutesAsleep  TotalTimeInBed  inBed_awake\n",
       "count  4.100000e+02                            410         410.000000          410.000000      410.000000   410.000000\n",
       "mean   4.994963e+09  2016-04-26 11:38:55.609756160           1.119512          419.173171      458.482927    39.309756\n",
       "min    1.503960e+09            2016-04-12 00:00:00           1.000000           58.000000       61.000000     0.000000\n",
       "25%    3.977334e+09            2016-04-19 00:00:00           1.000000          361.000000      403.750000    17.000000\n",
       "50%    4.702922e+09            2016-04-27 00:00:00           1.000000          432.500000      463.000000    25.500000\n",
       "75%    6.962181e+09            2016-05-04 00:00:00           1.000000          490.000000      526.000000    40.000000\n",
       "max    8.792010e+09            2016-05-12 00:00:00           3.000000          796.000000      961.000000   371.000000\n",
       "std    2.060863e+09                            NaN           0.346636          118.635918      127.455140    46.710932"
      ]
     },
     "execution_count": 90,
     "metadata": {},
     "output_type": "execute_result"
    }
   ],
   "source": [
    "sleep.describe()"
   ]
  },
  {
   "cell_type": "code",
   "execution_count": 91,
   "metadata": {},
   "outputs": [
    {
     "data": {
      "text/html": [
       "<div>\n",
       "<style scoped>\n",
       "    .dataframe tbody tr th:only-of-type {\n",
       "        vertical-align: middle;\n",
       "    }\n",
       "\n",
       "    .dataframe tbody tr th {\n",
       "        vertical-align: top;\n",
       "    }\n",
       "\n",
       "    .dataframe thead th {\n",
       "        text-align: right;\n",
       "    }\n",
       "</style>\n",
       "<table border=\"1\" class=\"dataframe\">\n",
       "  <thead>\n",
       "    <tr style=\"text-align: right;\">\n",
       "      <th></th>\n",
       "      <th>Id</th>\n",
       "      <th>WeightKg</th>\n",
       "      <th>WeightPounds</th>\n",
       "      <th>Fat</th>\n",
       "      <th>BMI</th>\n",
       "      <th>LogId</th>\n",
       "    </tr>\n",
       "  </thead>\n",
       "  <tbody>\n",
       "    <tr>\n",
       "      <th>count</th>\n",
       "      <td>6.700000e+01</td>\n",
       "      <td>67.000000</td>\n",
       "      <td>67.000000</td>\n",
       "      <td>2.00000</td>\n",
       "      <td>67.000000</td>\n",
       "      <td>6.700000e+01</td>\n",
       "    </tr>\n",
       "    <tr>\n",
       "      <th>mean</th>\n",
       "      <td>7.009282e+09</td>\n",
       "      <td>72.035821</td>\n",
       "      <td>158.811801</td>\n",
       "      <td>23.50000</td>\n",
       "      <td>25.185224</td>\n",
       "      <td>1.461772e+12</td>\n",
       "    </tr>\n",
       "    <tr>\n",
       "      <th>std</th>\n",
       "      <td>1.950322e+09</td>\n",
       "      <td>13.923206</td>\n",
       "      <td>30.695415</td>\n",
       "      <td>2.12132</td>\n",
       "      <td>3.066963</td>\n",
       "      <td>7.829948e+08</td>\n",
       "    </tr>\n",
       "    <tr>\n",
       "      <th>min</th>\n",
       "      <td>1.503960e+09</td>\n",
       "      <td>52.599998</td>\n",
       "      <td>115.963147</td>\n",
       "      <td>22.00000</td>\n",
       "      <td>21.450001</td>\n",
       "      <td>1.460444e+12</td>\n",
       "    </tr>\n",
       "    <tr>\n",
       "      <th>25%</th>\n",
       "      <td>6.962181e+09</td>\n",
       "      <td>61.400002</td>\n",
       "      <td>135.363832</td>\n",
       "      <td>22.75000</td>\n",
       "      <td>23.959999</td>\n",
       "      <td>1.461079e+12</td>\n",
       "    </tr>\n",
       "    <tr>\n",
       "      <th>50%</th>\n",
       "      <td>6.962181e+09</td>\n",
       "      <td>62.500000</td>\n",
       "      <td>137.788914</td>\n",
       "      <td>23.50000</td>\n",
       "      <td>24.389999</td>\n",
       "      <td>1.461802e+12</td>\n",
       "    </tr>\n",
       "    <tr>\n",
       "      <th>75%</th>\n",
       "      <td>8.877689e+09</td>\n",
       "      <td>85.049999</td>\n",
       "      <td>187.503152</td>\n",
       "      <td>24.25000</td>\n",
       "      <td>25.559999</td>\n",
       "      <td>1.462375e+12</td>\n",
       "    </tr>\n",
       "    <tr>\n",
       "      <th>max</th>\n",
       "      <td>8.877689e+09</td>\n",
       "      <td>133.500000</td>\n",
       "      <td>294.317120</td>\n",
       "      <td>25.00000</td>\n",
       "      <td>47.540001</td>\n",
       "      <td>1.463098e+12</td>\n",
       "    </tr>\n",
       "  </tbody>\n",
       "</table>\n",
       "</div>"
      ],
      "text/plain": [
       "                 Id    WeightKg  WeightPounds       Fat        BMI         LogId\n",
       "count  6.700000e+01   67.000000     67.000000   2.00000  67.000000  6.700000e+01\n",
       "mean   7.009282e+09   72.035821    158.811801  23.50000  25.185224  1.461772e+12\n",
       "std    1.950322e+09   13.923206     30.695415   2.12132   3.066963  7.829948e+08\n",
       "min    1.503960e+09   52.599998    115.963147  22.00000  21.450001  1.460444e+12\n",
       "25%    6.962181e+09   61.400002    135.363832  22.75000  23.959999  1.461079e+12\n",
       "50%    6.962181e+09   62.500000    137.788914  23.50000  24.389999  1.461802e+12\n",
       "75%    8.877689e+09   85.049999    187.503152  24.25000  25.559999  1.462375e+12\n",
       "max    8.877689e+09  133.500000    294.317120  25.00000  47.540001  1.463098e+12"
      ]
     },
     "execution_count": 91,
     "metadata": {},
     "output_type": "execute_result"
    }
   ],
   "source": [
    "weight_log.describe()"
   ]
  },
  {
   "cell_type": "code",
   "execution_count": 92,
   "metadata": {},
   "outputs": [
    {
     "data": {
      "text/html": [
       "<div>\n",
       "<style scoped>\n",
       "    .dataframe tbody tr th:only-of-type {\n",
       "        vertical-align: middle;\n",
       "    }\n",
       "\n",
       "    .dataframe tbody tr th {\n",
       "        vertical-align: top;\n",
       "    }\n",
       "\n",
       "    .dataframe thead th {\n",
       "        text-align: right;\n",
       "    }\n",
       "</style>\n",
       "<table border=\"1\" class=\"dataframe\">\n",
       "  <thead>\n",
       "    <tr style=\"text-align: right;\">\n",
       "      <th></th>\n",
       "      <th>Id</th>\n",
       "      <th>Value</th>\n",
       "      <th>Date</th>\n",
       "      <th>Hour</th>\n",
       "    </tr>\n",
       "  </thead>\n",
       "  <tbody>\n",
       "    <tr>\n",
       "      <th>count</th>\n",
       "      <td>2.483658e+06</td>\n",
       "      <td>2.483658e+06</td>\n",
       "      <td>2483658</td>\n",
       "      <td>2.483658e+06</td>\n",
       "    </tr>\n",
       "    <tr>\n",
       "      <th>mean</th>\n",
       "      <td>5.513765e+09</td>\n",
       "      <td>7.732842e+01</td>\n",
       "      <td>2016-04-26 19:43:52.237666304</td>\n",
       "      <td>1.242637e+01</td>\n",
       "    </tr>\n",
       "    <tr>\n",
       "      <th>min</th>\n",
       "      <td>2.022484e+09</td>\n",
       "      <td>3.600000e+01</td>\n",
       "      <td>2016-04-12 00:00:00</td>\n",
       "      <td>0.000000e+00</td>\n",
       "    </tr>\n",
       "    <tr>\n",
       "      <th>25%</th>\n",
       "      <td>4.388162e+09</td>\n",
       "      <td>6.300000e+01</td>\n",
       "      <td>2016-04-19 06:18:10</td>\n",
       "      <td>8.000000e+00</td>\n",
       "    </tr>\n",
       "    <tr>\n",
       "      <th>50%</th>\n",
       "      <td>5.553957e+09</td>\n",
       "      <td>7.300000e+01</td>\n",
       "      <td>2016-04-26 20:28:50</td>\n",
       "      <td>1.300000e+01</td>\n",
       "    </tr>\n",
       "    <tr>\n",
       "      <th>75%</th>\n",
       "      <td>6.962181e+09</td>\n",
       "      <td>8.800000e+01</td>\n",
       "      <td>2016-05-04 08:00:20</td>\n",
       "      <td>1.700000e+01</td>\n",
       "    </tr>\n",
       "    <tr>\n",
       "      <th>max</th>\n",
       "      <td>8.877689e+09</td>\n",
       "      <td>2.030000e+02</td>\n",
       "      <td>2016-05-12 16:20:00</td>\n",
       "      <td>2.300000e+01</td>\n",
       "    </tr>\n",
       "    <tr>\n",
       "      <th>std</th>\n",
       "      <td>1.950224e+09</td>\n",
       "      <td>1.940450e+01</td>\n",
       "      <td>NaN</td>\n",
       "      <td>6.174546e+00</td>\n",
       "    </tr>\n",
       "  </tbody>\n",
       "</table>\n",
       "</div>"
      ],
      "text/plain": [
       "                 Id         Value                           Date          Hour\n",
       "count  2.483658e+06  2.483658e+06                        2483658  2.483658e+06\n",
       "mean   5.513765e+09  7.732842e+01  2016-04-26 19:43:52.237666304  1.242637e+01\n",
       "min    2.022484e+09  3.600000e+01            2016-04-12 00:00:00  0.000000e+00\n",
       "25%    4.388162e+09  6.300000e+01            2016-04-19 06:18:10  8.000000e+00\n",
       "50%    5.553957e+09  7.300000e+01            2016-04-26 20:28:50  1.300000e+01\n",
       "75%    6.962181e+09  8.800000e+01            2016-05-04 08:00:20  1.700000e+01\n",
       "max    8.877689e+09  2.030000e+02            2016-05-12 16:20:00  2.300000e+01\n",
       "std    1.950224e+09  1.940450e+01                            NaN  6.174546e+00"
      ]
     },
     "execution_count": 92,
     "metadata": {},
     "output_type": "execute_result"
    }
   ],
   "source": [
    "heart.describe()"
   ]
  },
  {
   "cell_type": "code",
   "execution_count": null,
   "metadata": {},
   "outputs": [],
   "source": []
  }
 ],
 "metadata": {
  "language_info": {
   "name": "python"
  }
 },
 "nbformat": 4,
 "nbformat_minor": 2
}
